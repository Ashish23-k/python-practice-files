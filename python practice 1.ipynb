{
 "cells": [
  {
   "cell_type": "code",
   "execution_count": 3,
   "metadata": {},
   "outputs": [
    {
     "name": "stdout",
     "output_type": "stream",
     "text": [
      "python\n"
     ]
    }
   ],
   "source": [
    "#python\n",
    "#Introduction to strings\n",
    "\n",
    "#defining a string in python\n",
    "x='python'\n",
    "print(x)\n"
   ]
  },
  {
   "cell_type": "code",
   "execution_count": 4,
   "metadata": {},
   "outputs": [
    {
     "name": "stdout",
     "output_type": "stream",
     "text": [
      "'Python'is the latest programming language \n"
     ]
    }
   ],
   "source": [
    "#using single quotes inside a string\n",
    "x= \"'Python'is the latest programming language \"\n",
    "print(x)"
   ]
  },
  {
   "cell_type": "code",
   "execution_count": 5,
   "metadata": {},
   "outputs": [
    {
     "name": "stdout",
     "output_type": "stream",
     "text": [
      " 'Raju' told me that \"Recently many are using Python instead of older languages\" \n"
     ]
    }
   ],
   "source": [
    "#using both double and single quotes in a string\n",
    "x=\"\"\" 'Raju' told me that \"Recently many are using Python instead of older languages\" \"\"\"\n",
    "print(x)"
   ]
  },
  {
   "cell_type": "code",
   "execution_count": 6,
   "metadata": {},
   "outputs": [
    {
     "data": {
      "text/plain": [
       "str"
      ]
     },
     "execution_count": 6,
     "metadata": {},
     "output_type": "execute_result"
    }
   ],
   "source": [
    "#type of variable\n",
    "type(x)"
   ]
  },
  {
   "cell_type": "code",
   "execution_count": 7,
   "metadata": {},
   "outputs": [
    {
     "name": "stdout",
     "output_type": "stream",
     "text": [
      "Raju\n"
     ]
    }
   ],
   "source": [
    "#Using title case\n",
    "Name='raju'\n",
    "print(Name.title())\n",
    "\n"
   ]
  },
  {
   "cell_type": "code",
   "execution_count": 8,
   "metadata": {},
   "outputs": [
    {
     "name": "stdout",
     "output_type": "stream",
     "text": [
      "MAHESH KURI\n",
      "mahesh kuri\n"
     ]
    }
   ],
   "source": [
    "#upper case and lower case\n",
    "Name='Mahesh Kuri'\n",
    "print(Name.upper())\n",
    "print(Name.lower())"
   ]
  },
  {
   "cell_type": "code",
   "execution_count": 10,
   "metadata": {},
   "outputs": [
    {
     "name": "stdout",
     "output_type": "stream",
     "text": [
      "Suma loves eating mango\n"
     ]
    }
   ],
   "source": [
    "#F-Strings\n",
    "Name='suma'\n",
    "Fav_fruit='mango'\n",
    "print(f\"{Name.title()} loves eating {Fav_fruit}\")"
   ]
  },
  {
   "cell_type": "code",
   "execution_count": 12,
   "metadata": {},
   "outputs": [
    {
     "name": "stdout",
     "output_type": "stream",
     "text": [
      "Python \n",
      " Python\n",
      "Python\n",
      "\t Python\n"
     ]
    }
   ],
   "source": [
    "#string space\n",
    "Fav_lang=' Python '\n",
    "\n",
    "print(Fav_lang.lstrip())\n",
    "print(Fav_lang.rstrip())\n",
    "print(Fav_lang.strip())\n",
    "#tab space before a string\n",
    "print('\\t Python')\n"
   ]
  },
  {
   "cell_type": "code",
   "execution_count": 27,
   "metadata": {},
   "outputs": [
    {
     "name": "stdout",
     "output_type": "stream",
     "text": [
      "Men_clothing: \n",
      "\t 1.Shirts \n",
      " \t \t  i.Casual shirts \n",
      "\t\t ii.Formal shirts\n",
      "\t 2.Jeans \n",
      " \t \t  i.Torn jeans \n",
      "     \n",
      " \t \t ii.Faded jeans \n"
     ]
    }
   ],
   "source": [
    "#using \\n \\t\n",
    "print(\"\"\"Men_clothing: \\n\\t 1.Shirts \\n \\t \\t  i.Casual shirts \\n\\t\\t ii.Formal shirts\\n\\t 2.Jeans \\n \\t \\t  i.Torn jeans \n",
    "     \\n \\t \\t ii.Faded jeans \"\"\")"
   ]
  },
  {
   "cell_type": "code",
   "execution_count": 23,
   "metadata": {},
   "outputs": [
    {
     "name": "stdout",
     "output_type": "stream",
     "text": [
      "['red', 'blue', 'orange', 'violet', 'grey']\n",
      "RED\n",
      "I like blue of all other colors\n",
      "['red', 'blue', 'black', 'violet', 'grey']\n",
      "['red', 'blue', 'black', 'violet', 'grey', 'orange']\n"
     ]
    }
   ],
   "source": [
    "# list\n",
    "\n",
    "#defning a list\n",
    "\n",
    "Fav_colors=['red','blue','orange','violet','grey']\n",
    "print(Fav_colors)\n",
    "type(Fav_colors)\n",
    "print(Fav_colors[0].upper())\n",
    "print(f\"I like {Fav_colors[1]} of all other colors\")\n",
    "\n",
    "#changing,adding,inserting and removing an element from/to a list\n",
    "\n",
    "Fav_colors[2]='black'\n",
    "print(Fav_colors)\n",
    "\n",
    "#appending\n",
    "Fav_colors.append('orange')\n",
    "print(Fav_colors)\n",
    "\n"
   ]
  },
  {
   "cell_type": "code",
   "execution_count": 24,
   "metadata": {},
   "outputs": [
    {
     "name": "stdout",
     "output_type": "stream",
     "text": [
      "['red', 'blue', 'orange', 'black', 'violet', 'grey']\n"
     ]
    }
   ],
   "source": [
    "#inserting\n",
    "Fav_colors=['red','blue','orange','violet','grey']\n",
    "\n",
    "Fav_colors.insert(3,'black')\n",
    "print(Fav_colors)"
   ]
  },
  {
   "cell_type": "code",
   "execution_count": 25,
   "metadata": {},
   "outputs": [
    {
     "name": "stdout",
     "output_type": "stream",
     "text": [
      "['red', 'blue', 'orange', 'violet']\n"
     ]
    }
   ],
   "source": [
    "#removing\n",
    "Fav_colors=['red','blue','orange','violet','grey']\n",
    "\n",
    "Fav_colors.pop(4)\n",
    "print(Fav_colors)"
   ]
  },
  {
   "cell_type": "code",
   "execution_count": 30,
   "metadata": {},
   "outputs": [
    {
     "name": "stdout",
     "output_type": "stream",
     "text": [
      "['bmw', 'audi', 'benz', 'jeep']\n",
      "\n",
      " \n",
      "['audi', 'benz', 'bmw', 'jeep']\n"
     ]
    }
   ],
   "source": [
    "#organinsing a list\n",
    "cars=['bmw','audi','benz','jeep']\n",
    "print(cars)\n",
    "print('\\n ')\n",
    "cars.sort()\n",
    "print(cars)"
   ]
  },
  {
   "cell_type": "code",
   "execution_count": 32,
   "metadata": {},
   "outputs": [
    {
     "name": "stdout",
     "output_type": "stream",
     "text": [
      "['jeep', 'bmw', 'benz', 'audi']\n"
     ]
    }
   ],
   "source": [
    "#sort in reverse alphabetical order\n",
    "cars=['bmw','audi','benz','jeep']\n",
    "cars.sort(reverse=True)\n",
    "print(cars)\n"
   ]
  },
  {
   "cell_type": "code",
   "execution_count": 33,
   "metadata": {},
   "outputs": [
    {
     "data": {
      "text/plain": [
       "4"
      ]
     },
     "execution_count": 33,
     "metadata": {},
     "output_type": "execute_result"
    }
   ],
   "source": [
    "cars=['bmw','audi','benz','jeep']\n",
    "len(cars)"
   ]
  },
  {
   "cell_type": "code",
   "execution_count": 35,
   "metadata": {},
   "outputs": [
    {
     "name": "stdout",
     "output_type": "stream",
     "text": [
      "yamaha is the best\n",
      "ducati is the best\n",
      "bmw is the best\n",
      "kawasaki is the best\n"
     ]
    }
   ],
   "source": [
    "#Introdution to looping\n",
    "\n",
    "#for loop\n",
    "bikes=['yamaha','ducati','bmw','kawasaki']\n",
    "for bike in bikes:\n",
    " print(f\"{bike} is the best\")"
   ]
  },
  {
   "cell_type": "code",
   "execution_count": 36,
   "metadata": {},
   "outputs": [
    {
     "name": "stdout",
     "output_type": "stream",
     "text": [
      "20\n"
     ]
    }
   ],
   "source": [
    "#sum of numbers in list\n",
    "nums=[2,3,4,5,6]\n",
    "total=0\n",
    "for num in nums:\n",
    "    total=total+num\n",
    "print(total)"
   ]
  },
  {
   "cell_type": "code",
   "execution_count": 37,
   "metadata": {},
   "outputs": [
    {
     "name": "stdout",
     "output_type": "stream",
     "text": [
      "['superman', 'batman', 'flash', 'wonder women']\n",
      "['joker']\n"
     ]
    }
   ],
   "source": [
    "#slicing of strings\n",
    "\n",
    "Dc_char=['superman','batman','flash','wonder women','joker']\n",
    "\n",
    "Dc_heros=Dc_char[0:4]\n",
    "print(Dc_heros)\n",
    "\n",
    "Dc_villian=Dc_char[4:5]\n",
    "print(Dc_villian)"
   ]
  },
  {
   "cell_type": "code",
   "execution_count": 38,
   "metadata": {},
   "outputs": [
    {
     "name": "stdout",
     "output_type": "stream",
     "text": [
      "['superman', 'batman', 'flash', 'wonder women']\n",
      "['batman', 'flash', 'wonder women', 'joker']\n"
     ]
    }
   ],
   "source": [
    "Dc_char=['superman','batman','flash','wonder women','joker']\n",
    "#if not specified  the starting index number\n",
    "print(Dc_char[:4])\n",
    "#if not specified the ending index number\n",
    "print(Dc_char[1:])\n"
   ]
  },
  {
   "cell_type": "code",
   "execution_count": 39,
   "metadata": {},
   "outputs": [
    {
     "name": "stdout",
     "output_type": "stream",
     "text": [
      "[1, 2, 3, 4, 5, 6, 7, 8, 9, 10, 11, 12, 13, 14, 15, 16, 17, 18, 19, 20, 21, 22, 23, 24, 25, 26, 27, 28, 29, 30, 31, 32, 33, 34, 35, 36, 37, 38, 39, 40, 41, 42, 43, 44, 45, 46, 47, 48, 49]\n"
     ]
    }
   ],
   "source": [
    "#printing range of numbers\n",
    "nums=list(range(1,50))\n",
    "print(nums)"
   ]
  },
  {
   "cell_type": "code",
   "execution_count": 40,
   "metadata": {},
   "outputs": [
    {
     "name": "stdout",
     "output_type": "stream",
     "text": [
      "[2, 4, 6, 8, 10, 12, 14, 16, 18, 20, 22, 24, 26, 28, 30, 32, 34, 36, 38, 40, 42, 44, 46, 48, 50, 52, 54, 56, 58, 60, 62, 64, 66, 68, 70, 72, 74, 76, 78, 80, 82, 84, 86, 88, 90, 92, 94, 96, 98]\n"
     ]
    }
   ],
   "source": [
    "#printing only even numbers(Providing the interval or increment)\n",
    "eve_num=list(range(2,99,2))\n",
    "print(eve_num)"
   ]
  },
  {
   "cell_type": "code",
   "execution_count": 41,
   "metadata": {},
   "outputs": [
    {
     "name": "stdout",
     "output_type": "stream",
     "text": [
      "['ram', 'lakshman', 'urmi', 'kaikeyi', 'hanuma']\n"
     ]
    }
   ],
   "source": [
    "#Home work: Printing alternate elements of a list\n",
    "Mahabharat_char=['ram','sita','lakshman','bharat','urmi','satrugna','kaikeyi','ravana','hanuma','garuda']\n",
    "print(Mahabharat_char[0::2])\n"
   ]
  },
  {
   "cell_type": "code",
   "execution_count": 42,
   "metadata": {},
   "outputs": [
    {
     "name": "stdout",
     "output_type": "stream",
     "text": [
      "['ram', 'sita', 'lakshman', 'bharat', 'urmi', 'satrugna', 'kaikeyi', 'ravana', 'hanuma', 'garuda']\n"
     ]
    }
   ],
   "source": [
    "#Duplicating a list\n",
    "Mahabharat_char=['ram','sita','lakshman','bharat','urmi','satrugna','kaikeyi','ravana','hanuma','garuda']\n",
    "Dup_char=Mahabharat_char[:]\n",
    "print(Dup_char)"
   ]
  },
  {
   "cell_type": "code",
   "execution_count": 43,
   "metadata": {},
   "outputs": [
    {
     "name": "stdout",
     "output_type": "stream",
     "text": [
      "(200, 50)\n"
     ]
    }
   ],
   "source": [
    "#TUPLE\n",
    "#it is an immutable list\n",
    "dimensions=(200,50)\n",
    "print(dimensions)"
   ]
  },
  {
   "cell_type": "code",
   "execution_count": 44,
   "metadata": {},
   "outputs": [
    {
     "data": {
      "text/plain": [
       "tuple"
      ]
     },
     "execution_count": 44,
     "metadata": {},
     "output_type": "execute_result"
    }
   ],
   "source": [
    "dimensions=(200,50)\n",
    "\n",
    "type(dimensions)"
   ]
  },
  {
   "cell_type": "code",
   "execution_count": 46,
   "metadata": {},
   "outputs": [
    {
     "name": "stdout",
     "output_type": "stream",
     "text": [
      "200\n"
     ]
    },
    {
     "ename": "TypeError",
     "evalue": "'tuple' object does not support item assignment",
     "output_type": "error",
     "traceback": [
      "\u001b[1;31m---------------------------------------------------------------------------\u001b[0m",
      "\u001b[1;31mTypeError\u001b[0m                                 Traceback (most recent call last)",
      "\u001b[1;32m<ipython-input-46-7e62ce6b81e5>\u001b[0m in \u001b[0;36m<module>\u001b[1;34m\u001b[0m\n\u001b[0;32m      3\u001b[0m \u001b[0mprint\u001b[0m\u001b[1;33m(\u001b[0m\u001b[0mdimensions\u001b[0m\u001b[1;33m[\u001b[0m\u001b[1;36m0\u001b[0m\u001b[1;33m]\u001b[0m\u001b[1;33m)\u001b[0m\u001b[1;33m\u001b[0m\u001b[1;33m\u001b[0m\u001b[0m\n\u001b[0;32m      4\u001b[0m \u001b[1;33m\u001b[0m\u001b[0m\n\u001b[1;32m----> 5\u001b[1;33m \u001b[0mdimensions\u001b[0m\u001b[1;33m[\u001b[0m\u001b[1;36m0\u001b[0m\u001b[1;33m]\u001b[0m\u001b[1;33m=\u001b[0m\u001b[1;36m250\u001b[0m\u001b[1;33m\u001b[0m\u001b[1;33m\u001b[0m\u001b[0m\n\u001b[0m",
      "\u001b[1;31mTypeError\u001b[0m: 'tuple' object does not support item assignment"
     ]
    }
   ],
   "source": [
    "dimensions=(200,50)\n",
    "\n",
    "print(dimensions[0])\n",
    "\n",
    "dimensions[0]=250\n"
   ]
  },
  {
   "cell_type": "code",
   "execution_count": 47,
   "metadata": {},
   "outputs": [
    {
     "name": "stdout",
     "output_type": "stream",
     "text": [
      "{'color': 'green', 'points': 5}\n"
     ]
    },
    {
     "data": {
      "text/plain": [
       "dict"
      ]
     },
     "execution_count": 47,
     "metadata": {},
     "output_type": "execute_result"
    }
   ],
   "source": [
    "#Introduction to Dictionary data type\n",
    "\n",
    "alien_0={'color':'green','points':5}\n",
    "print(alien_0)\n",
    "type(alien_0)"
   ]
  },
  {
   "cell_type": "code",
   "execution_count": null,
   "metadata": {},
   "outputs": [],
   "source": []
  }
 ],
 "metadata": {
  "kernelspec": {
   "display_name": "Python 3",
   "language": "python",
   "name": "python3"
  },
  "language_info": {
   "codemirror_mode": {
    "name": "ipython",
    "version": 3
   },
   "file_extension": ".py",
   "mimetype": "text/x-python",
   "name": "python",
   "nbconvert_exporter": "python",
   "pygments_lexer": "ipython3",
   "version": "3.7.3"
  }
 },
 "nbformat": 4,
 "nbformat_minor": 2
}
